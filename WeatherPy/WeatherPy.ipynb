{
 "cells": [
  {
   "cell_type": "markdown",
   "metadata": {},
   "source": [
    "# WeatherPy\n",
    "----\n",
    "\n",
    "#### Note\n",
    "* Instructions have been included for each segment. You do not have to follow them exactly, but they are included to help you think through the steps."
   ]
  },
  {
   "cell_type": "code",
   "execution_count": 2,
   "metadata": {
    "scrolled": true
   },
   "outputs": [],
   "source": [
    "import matplotlib.pyplot as plt\n",
    "import pandas as pd\n",
    "import numpy as np\n",
    "import requests\n",
    "import time\n",
    "from scipy.stats import linregress\n",
    "\n",
    "# Import API key\n",
    "from api_keys import weather_api_key\n",
    "\n",
    "# Incorporated citipy to determine city based on latitude and longitude\n",
    "from citipy import citipy\n",
    "\n",
    "# Output File (CSV)\n",
    "output_data_file = \"output_data/cities.csv\"\n",
    "\n",
    "# Range of latitudes and longitudes\n",
    "lat_range = (-90, 90)\n",
    "lng_range = (-180, 180)"
   ]
  },
  {
   "cell_type": "markdown",
   "metadata": {},
   "source": [
    "## Generate Cities List"
   ]
  },
  {
   "cell_type": "code",
   "execution_count": 3,
   "metadata": {},
   "outputs": [
    {
     "data": {
      "text/plain": [
       "598"
      ]
     },
     "execution_count": 3,
     "metadata": {},
     "output_type": "execute_result"
    }
   ],
   "source": [
    "# List for holding lat_lngs and cities\n",
    "lat_lngs = []\n",
    "cities = []\n",
    "\n",
    "# Create a set of random lat and lng combinations\n",
    "lats = np.random.uniform(lat_range[0], lat_range[1], size=1500)\n",
    "lngs = np.random.uniform(lng_range[0], lng_range[1], size=1500)\n",
    "lat_lngs = zip(lats, lngs)\n",
    "\n",
    "# Identify nearest city for each lat, lng combination\n",
    "for lat_lng in lat_lngs:\n",
    "    city = citipy.nearest_city(lat_lng[0], lat_lng[1]).city_name\n",
    "    \n",
    "    # If the city is unique, then add it to a our cities list\n",
    "    if city not in cities:\n",
    "        cities.append(city)\n",
    "\n",
    "# Print the city count to confirm sufficient count\n",
    "len(cities)"
   ]
  },
  {
   "cell_type": "markdown",
   "metadata": {},
   "source": [
    "### Perform API Calls\n",
    "* Perform a weather check on each city using a series of successive API calls.\n",
    "* Include a print log of each city as it'sbeing processed (with the city number and city name).\n"
   ]
  },
  {
   "cell_type": "code",
   "execution_count": 4,
   "metadata": {
    "scrolled": true
   },
   "outputs": [
    {
     "name": "stdout",
     "output_type": "stream",
     "text": [
      "Processing 1 of 598 : taolanaro\n",
      "City not found. Continuing ...\n",
      "Processing 2 of 598 : kamina\n",
      "Processing 3 of 598 : hamilton\n",
      "Processing 4 of 598 : punta arenas\n",
      "Processing 5 of 598 : cape town\n",
      "Processing 6 of 598 : ca mau\n",
      "Processing 7 of 598 : qaanaaq\n",
      "Processing 8 of 598 : mehamn\n",
      "Processing 9 of 598 : lagoa\n",
      "Processing 10 of 598 : chokurdakh\n",
      "Processing 11 of 598 : albany\n",
      "Processing 12 of 598 : jamestown\n",
      "Processing 13 of 598 : avarua\n",
      "Processing 14 of 598 : narsaq\n",
      "Processing 15 of 598 : nabire\n",
      "Processing 16 of 598 : tsihombe\n",
      "City not found. Continuing ...\n",
      "Processing 17 of 598 : vaitupu\n",
      "City not found. Continuing ...\n",
      "Processing 18 of 598 : hilo\n",
      "Processing 19 of 598 : illoqqortoormiut\n",
      "City not found. Continuing ...\n",
      "Processing 20 of 598 : vila do maio\n",
      "Processing 21 of 598 : mys shmidta\n",
      "City not found. Continuing ...\n",
      "Processing 22 of 598 : ribeira grande\n",
      "Processing 23 of 598 : ushuaia\n",
      "Processing 24 of 598 : upernavik\n",
      "Processing 25 of 598 : provideniya\n",
      "Processing 26 of 598 : new norfolk\n",
      "Processing 27 of 598 : iqaluit\n",
      "Processing 28 of 598 : pangnirtung\n",
      "Processing 29 of 598 : champerico\n",
      "Processing 30 of 598 : victoria\n",
      "Processing 31 of 598 : rikitea\n",
      "Processing 32 of 598 : mataura\n",
      "Processing 33 of 598 : atripalda\n",
      "Processing 34 of 598 : hithadhoo\n",
      "Processing 35 of 598 : inderborskiy\n",
      "City not found. Continuing ...\n",
      "Processing 36 of 598 : dikson\n",
      "Processing 37 of 598 : nanortalik\n",
      "Processing 38 of 598 : ndioum\n",
      "Processing 39 of 598 : bambous virieux\n",
      "Processing 40 of 598 : havre-saint-pierre\n",
      "Processing 41 of 598 : cherskiy\n",
      "Processing 42 of 598 : mangai\n",
      "Processing 43 of 598 : arlit\n",
      "Processing 44 of 598 : atuona\n",
      "Processing 45 of 598 : bengkulu\n",
      "Processing 46 of 598 : dawson creek\n",
      "Processing 47 of 598 : dingle\n",
      "Processing 48 of 598 : kununurra\n",
      "Processing 49 of 598 : tulagi\n",
      "Processing 50 of 598 : yellowknife\n",
      "Processing 51 of 598 : ye\n",
      "City not found. Continuing ...\n",
      "Processing 52 of 598 : tigil\n",
      "Processing 53 of 598 : port alfred\n",
      "Processing 54 of 598 : severo-kurilsk\n",
      "Processing 55 of 598 : lorengau\n",
      "Processing 56 of 598 : clyde river\n",
      "Processing 57 of 598 : busselton\n",
      "Processing 58 of 598 : khatanga\n",
      "Processing 59 of 598 : vaini\n",
      "Processing 60 of 598 : marfino\n",
      "Processing 61 of 598 : grand river south east\n",
      "City not found. Continuing ...\n",
      "Processing 62 of 598 : ijaki\n",
      "City not found. Continuing ...\n",
      "Processing 63 of 598 : ambilobe\n",
      "Processing 64 of 598 : baymak\n",
      "Processing 65 of 598 : hambantota\n",
      "Processing 66 of 598 : hue\n",
      "Processing 67 of 598 : puerto ayora\n",
      "Processing 68 of 598 : severnyy\n",
      "Processing 69 of 598 : ostersund\n",
      "Processing 70 of 598 : santa vitoria do palmar\n",
      "Processing 71 of 598 : pokhara\n",
      "Processing 72 of 598 : lufilufi\n",
      "Processing 73 of 598 : roald\n",
      "Processing 74 of 598 : san alberto\n",
      "Processing 75 of 598 : hermanus\n",
      "Processing 76 of 598 : danville\n",
      "Processing 77 of 598 : kanniyakumari\n",
      "Processing 78 of 598 : hobart\n",
      "Processing 79 of 598 : tucuman\n",
      "Processing 80 of 598 : tuktoyaktuk\n",
      "Processing 81 of 598 : nuuk\n",
      "Processing 82 of 598 : berbera\n",
      "Processing 83 of 598 : danane\n",
      "Processing 84 of 598 : belushya guba\n",
      "City not found. Continuing ...\n",
      "Processing 85 of 598 : rostaq\n",
      "City not found. Continuing ...\n",
      "Processing 86 of 598 : comodoro rivadavia\n",
      "Processing 87 of 598 : vanimo\n",
      "Processing 88 of 598 : batagay\n",
      "Processing 89 of 598 : calabozo\n",
      "Processing 90 of 598 : taoudenni\n",
      "Processing 91 of 598 : pafos\n",
      "Processing 92 of 598 : saskylakh\n",
      "Processing 93 of 598 : sibu\n",
      "Processing 94 of 598 : jutai\n",
      "Processing 95 of 598 : beloha\n",
      "Processing 96 of 598 : atasu\n",
      "Processing 97 of 598 : muswellbrook\n",
      "Processing 98 of 598 : salinas\n",
      "Processing 99 of 598 : nikolskoye\n",
      "Processing 100 of 598 : khed brahma\n",
      "Processing 101 of 598 : nome\n",
      "Processing 102 of 598 : yongan\n",
      "Processing 103 of 598 : tiksi\n",
      "Processing 104 of 598 : charagua\n",
      "Processing 105 of 598 : tura\n",
      "Processing 106 of 598 : moerai\n",
      "Processing 107 of 598 : christchurch\n",
      "Processing 108 of 598 : katsuura\n",
      "Processing 109 of 598 : airai\n",
      "Processing 110 of 598 : wichita falls\n",
      "Processing 111 of 598 : souillac\n",
      "Processing 112 of 598 : viedma\n",
      "Processing 113 of 598 : mahebourg\n",
      "Processing 114 of 598 : mut\n",
      "Processing 115 of 598 : sentyabrskiy\n",
      "City not found. Continuing ...\n",
      "Processing 116 of 598 : goba\n",
      "Processing 117 of 598 : porto belo\n",
      "Processing 118 of 598 : port hardy\n",
      "Processing 119 of 598 : oum hadjer\n",
      "Processing 120 of 598 : amderma\n",
      "City not found. Continuing ...\n",
      "Processing 121 of 598 : bubaque\n",
      "Processing 122 of 598 : georgetown\n",
      "Processing 123 of 598 : havelock\n",
      "Processing 124 of 598 : sinnamary\n",
      "Processing 125 of 598 : challapata\n",
      "Processing 126 of 598 : makakilo city\n",
      "Processing 127 of 598 : nizhneyansk\n",
      "City not found. Continuing ...\n",
      "Processing 128 of 598 : inhambane\n",
      "Processing 129 of 598 : faya\n",
      "Processing 130 of 598 : bell ville\n",
      "Processing 131 of 598 : touros\n",
      "Processing 132 of 598 : sitka\n",
      "Processing 133 of 598 : castro\n",
      "Processing 134 of 598 : lokosovo\n",
      "Processing 135 of 598 : codrington\n",
      "Processing 136 of 598 : visby\n",
      "Processing 137 of 598 : tortoli\n",
      "Processing 138 of 598 : mar del plata\n",
      "Processing 139 of 598 : manaquiri\n",
      "Processing 140 of 598 : bathsheba\n",
      "Processing 141 of 598 : hackettstown\n",
      "Processing 142 of 598 : bredasdorp\n",
      "Processing 143 of 598 : hasaki\n",
      "Processing 144 of 598 : umm lajj\n",
      "Processing 145 of 598 : bayan\n",
      "Processing 146 of 598 : altay\n",
      "Processing 147 of 598 : mrirt\n",
      "City not found. Continuing ...\n",
      "Processing 148 of 598 : karkaralinsk\n",
      "City not found. Continuing ...\n",
      "Processing 149 of 598 : la ronge\n",
      "Processing 150 of 598 : grimari\n",
      "City not found. Continuing ...\n",
      "Processing 151 of 598 : barentsburg\n",
      "City not found. Continuing ...\n",
      "Processing 152 of 598 : pevek\n",
      "Processing 153 of 598 : yulara\n",
      "Processing 154 of 598 : domoni\n",
      "Processing 155 of 598 : huarmey\n",
      "Processing 156 of 598 : campbell river\n",
      "Processing 157 of 598 : coquimbo\n",
      "Processing 158 of 598 : saldanha\n",
      "Processing 159 of 598 : skeldon\n",
      "Processing 160 of 598 : kapaa\n",
      "Processing 161 of 598 : tuatapere\n",
      "Processing 162 of 598 : mangan\n",
      "Processing 163 of 598 : urzhum\n",
      "Processing 164 of 598 : kambove\n",
      "Processing 165 of 598 : bluff\n",
      "Processing 166 of 598 : saint-honore\n",
      "Processing 167 of 598 : shaki\n",
      "Processing 168 of 598 : teruel\n",
      "Processing 169 of 598 : tasiilaq\n",
      "Processing 170 of 598 : lata\n",
      "Processing 171 of 598 : chulumani\n",
      "Processing 172 of 598 : haibowan\n",
      "City not found. Continuing ...\n",
      "Processing 173 of 598 : havoysund\n",
      "Processing 174 of 598 : kruisfontein\n",
      "Processing 175 of 598 : barbar\n",
      "City not found. Continuing ...\n",
      "Processing 176 of 598 : humberto de campos\n",
      "Processing 177 of 598 : nouadhibou\n",
      "Processing 178 of 598 : karpathos\n",
      "Processing 179 of 598 : hagenow\n",
      "Processing 180 of 598 : mamou\n",
      "Processing 181 of 598 : biak\n",
      "Processing 182 of 598 : sao filipe\n",
      "Processing 183 of 598 : komsomolskiy\n",
      "Processing 184 of 598 : broken hill\n",
      "Processing 185 of 598 : manado\n",
      "Processing 186 of 598 : abu dhabi\n",
      "Processing 187 of 598 : kazlu ruda\n",
      "Processing 188 of 598 : esperance\n",
      "Processing 189 of 598 : lebu\n",
      "Processing 190 of 598 : igarape\n",
      "Processing 191 of 598 : umm durman\n",
      "City not found. Continuing ...\n",
      "Processing 192 of 598 : hadejia\n",
      "Processing 193 of 598 : yeniseysk\n",
      "Processing 194 of 598 : bonaventure\n",
      "Processing 195 of 598 : ponta do sol\n",
      "Processing 196 of 598 : butaritari\n",
      "Processing 197 of 598 : litoral del san juan\n",
      "City not found. Continuing ...\n",
      "Processing 198 of 598 : kaitangata\n",
      "Processing 199 of 598 : talnakh\n",
      "Processing 200 of 598 : salaya\n",
      "Processing 201 of 598 : cockburn town\n",
      "Processing 202 of 598 : new ulm\n",
      "Processing 203 of 598 : moses lake\n",
      "Processing 204 of 598 : lexington\n",
      "Processing 205 of 598 : santiago del estero\n",
      "Processing 206 of 598 : manokwari\n",
      "Processing 207 of 598 : fort frances\n",
      "Processing 208 of 598 : tombouctou\n",
      "Processing 209 of 598 : fuling\n",
      "Processing 210 of 598 : seydi\n",
      "Processing 211 of 598 : balabac\n",
      "Processing 212 of 598 : cidreira\n",
      "Processing 213 of 598 : carnarvon\n",
      "Processing 214 of 598 : xining\n",
      "Processing 215 of 598 : saint-philippe\n",
      "Processing 216 of 598 : grindavik\n",
      "Processing 217 of 598 : vila franca do campo\n",
      "Processing 218 of 598 : mayor pablo lagerenza\n",
      "Processing 219 of 598 : lasa\n",
      "Processing 220 of 598 : amapa\n",
      "Processing 221 of 598 : mount gambier\n",
      "Processing 222 of 598 : kiunga\n",
      "Processing 223 of 598 : torbay\n",
      "Processing 224 of 598 : bandarbeyla\n",
      "Processing 225 of 598 : namatanai\n",
      "Processing 226 of 598 : tongliao\n",
      "Processing 227 of 598 : sibiti\n",
      "Processing 228 of 598 : port-gentil\n"
     ]
    },
    {
     "name": "stdout",
     "output_type": "stream",
     "text": [
      "Processing 229 of 598 : kodiak\n",
      "Processing 230 of 598 : sao joao da barra\n",
      "Processing 231 of 598 : alice springs\n",
      "Processing 232 of 598 : qaqortoq\n",
      "Processing 233 of 598 : balykshi\n",
      "Processing 234 of 598 : petatlan\n",
      "Processing 235 of 598 : samarai\n",
      "Processing 236 of 598 : mount isa\n",
      "Processing 237 of 598 : dunedin\n",
      "Processing 238 of 598 : buala\n",
      "Processing 239 of 598 : pont-sainte-maxence\n",
      "Processing 240 of 598 : port moresby\n",
      "Processing 241 of 598 : faanui\n",
      "Processing 242 of 598 : dakoro\n",
      "Processing 243 of 598 : kasra\n",
      "City not found. Continuing ...\n",
      "Processing 244 of 598 : karakol\n",
      "Processing 245 of 598 : novo aripuana\n",
      "Processing 246 of 598 : port elizabeth\n",
      "Processing 247 of 598 : santander\n",
      "Processing 248 of 598 : quatre cocos\n",
      "Processing 249 of 598 : malanville\n",
      "Processing 250 of 598 : asau\n",
      "Processing 251 of 598 : acarau\n",
      "Processing 252 of 598 : poum\n",
      "Processing 253 of 598 : gizo\n",
      "Processing 254 of 598 : bandiagara\n",
      "Processing 255 of 598 : nizhniy ingash\n",
      "Processing 256 of 598 : lolua\n",
      "City not found. Continuing ...\n",
      "Processing 257 of 598 : turukhansk\n",
      "Processing 258 of 598 : yabrud\n",
      "Processing 259 of 598 : maiduguri\n",
      "Processing 260 of 598 : bam\n",
      "Processing 261 of 598 : chuy\n",
      "Processing 262 of 598 : dandeli\n",
      "Processing 263 of 598 : baruun-urt\n",
      "Processing 264 of 598 : bocaranga\n",
      "City not found. Continuing ...\n",
      "Processing 265 of 598 : mayo\n",
      "Processing 266 of 598 : mineiros\n",
      "Processing 267 of 598 : carballo\n",
      "Processing 268 of 598 : ancud\n",
      "Processing 269 of 598 : saint-francois\n",
      "Processing 270 of 598 : saint george\n",
      "Processing 271 of 598 : bon accord\n",
      "Processing 272 of 598 : karauzyak\n",
      "City not found. Continuing ...\n",
      "Processing 273 of 598 : tagbac\n",
      "Processing 274 of 598 : ayagoz\n",
      "Processing 275 of 598 : vikarabad\n",
      "Processing 276 of 598 : ryotsu\n",
      "Processing 277 of 598 : srednekolymsk\n",
      "Processing 278 of 598 : petropavlovsk-kamchatskiy\n",
      "Processing 279 of 598 : aksarka\n",
      "Processing 280 of 598 : alamogordo\n",
      "Processing 281 of 598 : kant\n",
      "Processing 282 of 598 : kavieng\n",
      "Processing 283 of 598 : vila velha\n",
      "Processing 284 of 598 : smithers\n",
      "Processing 285 of 598 : berlevag\n",
      "Processing 286 of 598 : kaniama\n",
      "Processing 287 of 598 : paracuru\n",
      "Processing 288 of 598 : parkersburg\n",
      "Processing 289 of 598 : kilindoni\n",
      "Processing 290 of 598 : attawapiskat\n",
      "City not found. Continuing ...\n",
      "Processing 291 of 598 : phan rang\n",
      "City not found. Continuing ...\n",
      "Processing 292 of 598 : fairbanks\n",
      "Processing 293 of 598 : kathmandu\n",
      "Processing 294 of 598 : santa cruz\n",
      "Processing 295 of 598 : kattivakkam\n",
      "Processing 296 of 598 : leh\n",
      "Processing 297 of 598 : east london\n",
      "Processing 298 of 598 : hualmay\n",
      "Processing 299 of 598 : manama\n",
      "Processing 300 of 598 : sambava\n",
      "Processing 301 of 598 : kostomuksha\n",
      "Processing 302 of 598 : luderitz\n",
      "Processing 303 of 598 : nanakuli\n",
      "Processing 304 of 598 : weihe\n",
      "Processing 305 of 598 : barrow\n",
      "Processing 306 of 598 : gamba\n",
      "Processing 307 of 598 : ilulissat\n",
      "Processing 308 of 598 : pinega\n",
      "Processing 309 of 598 : koping\n",
      "Processing 310 of 598 : utrecht\n",
      "Processing 311 of 598 : rio gallegos\n",
      "Processing 312 of 598 : sampit\n",
      "Processing 313 of 598 : sardarshahr\n",
      "Processing 314 of 598 : thompson\n",
      "Processing 315 of 598 : tapes\n",
      "Processing 316 of 598 : kieta\n",
      "Processing 317 of 598 : pimentel\n",
      "Processing 318 of 598 : taltal\n",
      "Processing 319 of 598 : longyearbyen\n",
      "Processing 320 of 598 : grand gaube\n",
      "Processing 321 of 598 : arraial do cabo\n",
      "Processing 322 of 598 : redmond\n",
      "Processing 323 of 598 : galle\n",
      "Processing 324 of 598 : huicungo\n",
      "Processing 325 of 598 : gazojak\n",
      "Processing 326 of 598 : arona\n",
      "Processing 327 of 598 : palmer\n",
      "Processing 328 of 598 : fonte boa\n",
      "Processing 329 of 598 : acolla\n",
      "Processing 330 of 598 : gornopravdinsk\n",
      "Processing 331 of 598 : chimoio\n",
      "Processing 332 of 598 : tabiauea\n",
      "City not found. Continuing ...\n",
      "Processing 333 of 598 : xuddur\n",
      "Processing 334 of 598 : bolungarvik\n",
      "City not found. Continuing ...\n",
      "Processing 335 of 598 : zapolyarnyy\n",
      "Processing 336 of 598 : cerknica\n",
      "Processing 337 of 598 : prince george\n",
      "Processing 338 of 598 : hihifo\n",
      "City not found. Continuing ...\n",
      "Processing 339 of 598 : iralaya\n",
      "Processing 340 of 598 : avera\n",
      "Processing 341 of 598 : port keats\n",
      "Processing 342 of 598 : pisco\n",
      "Processing 343 of 598 : manoel urbano\n",
      "Processing 344 of 598 : camacha\n",
      "Processing 345 of 598 : kavaratti\n",
      "Processing 346 of 598 : namibe\n",
      "Processing 347 of 598 : half moon bay\n",
      "Processing 348 of 598 : dinagat\n",
      "Processing 349 of 598 : tabat\n",
      "Processing 350 of 598 : tukrah\n",
      "Processing 351 of 598 : itanagar\n",
      "Processing 352 of 598 : teguise\n",
      "Processing 353 of 598 : roscrea\n",
      "Processing 354 of 598 : paamiut\n",
      "Processing 355 of 598 : waingapu\n",
      "Processing 356 of 598 : san vicente\n",
      "Processing 357 of 598 : byron bay\n",
      "Processing 358 of 598 : san andres\n",
      "Processing 359 of 598 : daimiel\n",
      "Processing 360 of 598 : westport\n",
      "Processing 361 of 598 : champoton\n",
      "Processing 362 of 598 : deputatskiy\n",
      "Processing 363 of 598 : frankfort\n",
      "Processing 364 of 598 : alugan\n",
      "Processing 365 of 598 : puerto escondido\n",
      "Processing 366 of 598 : solnechnyy\n",
      "Processing 367 of 598 : doha\n",
      "Processing 368 of 598 : fukue\n",
      "Processing 369 of 598 : corigliano calabro\n",
      "Processing 370 of 598 : orissaare\n",
      "Processing 371 of 598 : arroyo\n",
      "Processing 372 of 598 : okhotsk\n",
      "Processing 373 of 598 : bermejo\n",
      "Processing 374 of 598 : mindelo\n",
      "Processing 375 of 598 : muborak\n",
      "Processing 376 of 598 : bethel\n",
      "Processing 377 of 598 : santa\n",
      "Processing 378 of 598 : tezu\n",
      "Processing 379 of 598 : alihe\n",
      "Processing 380 of 598 : sao gabriel da cachoeira\n",
      "Processing 381 of 598 : beringovskiy\n",
      "Processing 382 of 598 : grande prairie\n",
      "Processing 383 of 598 : guarapari\n",
      "Processing 384 of 598 : masterton\n",
      "Processing 385 of 598 : naze\n",
      "Processing 386 of 598 : norman wells\n",
      "Processing 387 of 598 : fujin\n",
      "Processing 388 of 598 : vestmannaeyjar\n",
      "Processing 389 of 598 : shelburne\n",
      "Processing 390 of 598 : hulja\n",
      "Processing 391 of 598 : villa florida\n",
      "Processing 392 of 598 : asfi\n",
      "Processing 393 of 598 : kahului\n",
      "Processing 394 of 598 : tokonou\n",
      "Processing 395 of 598 : pustomyty\n",
      "Processing 396 of 598 : sao francisco\n",
      "Processing 397 of 598 : luau\n",
      "Processing 398 of 598 : san jeronimo\n",
      "Processing 399 of 598 : leningradskiy\n",
      "Processing 400 of 598 : rocha\n",
      "Processing 401 of 598 : camopi\n",
      "Processing 402 of 598 : cap malheureux\n",
      "Processing 403 of 598 : lompoc\n",
      "Processing 404 of 598 : goderich\n",
      "Processing 405 of 598 : hunza\n",
      "City not found. Continuing ...\n",
      "Processing 406 of 598 : ketchikan\n",
      "Processing 407 of 598 : rio grande\n",
      "Processing 408 of 598 : russell\n",
      "Processing 409 of 598 : tual\n",
      "Processing 410 of 598 : los llanos de aridane\n",
      "Processing 411 of 598 : kalabo\n",
      "Processing 412 of 598 : pila\n",
      "Processing 413 of 598 : rehoboth\n",
      "Processing 414 of 598 : san matias\n",
      "Processing 415 of 598 : aklavik\n",
      "Processing 416 of 598 : rapar\n",
      "Processing 417 of 598 : saleaula\n",
      "City not found. Continuing ...\n",
      "Processing 418 of 598 : makubetsu\n",
      "Processing 419 of 598 : algodones\n",
      "Processing 420 of 598 : jiexiu\n",
      "Processing 421 of 598 : karamursel\n",
      "Processing 422 of 598 : camacari\n",
      "Processing 423 of 598 : yamada\n",
      "Processing 424 of 598 : kandrian\n",
      "Processing 425 of 598 : cabedelo\n",
      "Processing 426 of 598 : camana\n",
      "Processing 427 of 598 : yeppoon\n",
      "Processing 428 of 598 : ashqelon\n",
      "Processing 429 of 598 : micheweni\n",
      "Processing 430 of 598 : keetmanshoop\n",
      "Processing 431 of 598 : toftir\n",
      "City not found. Continuing ...\n",
      "Processing 432 of 598 : kloulklubed\n",
      "Processing 433 of 598 : hami\n",
      "Processing 434 of 598 : tazovskiy\n",
      "Processing 435 of 598 : gazanjyk\n",
      "Processing 436 of 598 : puyo\n",
      "Processing 437 of 598 : kargasok\n",
      "Processing 438 of 598 : diu\n",
      "Processing 439 of 598 : pirapozinho\n",
      "Processing 440 of 598 : severnyy-kospashskiy\n",
      "Processing 441 of 598 : haradok\n",
      "Processing 442 of 598 : dickson\n",
      "Processing 443 of 598 : vavoua\n",
      "Processing 444 of 598 : xai-xai\n",
      "Processing 445 of 598 : valparaiso\n",
      "Processing 446 of 598 : kashan\n",
      "Processing 447 of 598 : brigantine\n",
      "Processing 448 of 598 : krasnoselkup\n",
      "Processing 449 of 598 : mubende\n",
      "Processing 450 of 598 : lunel\n",
      "Processing 451 of 598 : canaries\n",
      "Processing 452 of 598 : husavik\n",
      "Processing 453 of 598 : jasper\n",
      "Processing 454 of 598 : jalu\n",
      "Processing 455 of 598 : cabo san lucas\n",
      "Processing 456 of 598 : sogdiondon\n",
      "City not found. Continuing ...\n",
      "Processing 457 of 598 : college\n",
      "Processing 458 of 598 : stillwater\n",
      "Processing 459 of 598 : meulaboh\n",
      "Processing 460 of 598 : shache\n",
      "Processing 461 of 598 : novosheshminsk\n",
      "Processing 462 of 598 : gap\n"
     ]
    },
    {
     "name": "stdout",
     "output_type": "stream",
     "text": [
      "Processing 463 of 598 : yerbogachen\n",
      "Processing 464 of 598 : moron\n",
      "Processing 465 of 598 : sola\n",
      "Processing 466 of 598 : wufeng\n",
      "Processing 467 of 598 : uglekamensk\n",
      "Processing 468 of 598 : todos santos\n",
      "Processing 469 of 598 : hastings\n",
      "Processing 470 of 598 : chagda\n",
      "City not found. Continuing ...\n",
      "Processing 471 of 598 : miranorte\n",
      "City not found. Continuing ...\n",
      "Processing 472 of 598 : itarema\n",
      "Processing 473 of 598 : great falls\n",
      "Processing 474 of 598 : soyo\n",
      "Processing 475 of 598 : khawhai\n",
      "Processing 476 of 598 : bartlesville\n",
      "Processing 477 of 598 : jumla\n",
      "Processing 478 of 598 : verkhnevilyuysk\n",
      "Processing 479 of 598 : mocambique\n",
      "City not found. Continuing ...\n",
      "Processing 480 of 598 : tostamaa\n",
      "City not found. Continuing ...\n",
      "Processing 481 of 598 : trairi\n",
      "Processing 482 of 598 : svetlograd\n",
      "Processing 483 of 598 : harper\n",
      "Processing 484 of 598 : san cristobal\n",
      "Processing 485 of 598 : baykit\n",
      "Processing 486 of 598 : pangai\n",
      "Processing 487 of 598 : vuktyl\n",
      "Processing 488 of 598 : bereda\n",
      "Processing 489 of 598 : rexburg\n",
      "Processing 490 of 598 : menongue\n",
      "Processing 491 of 598 : filimonovo\n",
      "Processing 492 of 598 : pabrade\n",
      "Processing 493 of 598 : biloela\n",
      "Processing 494 of 598 : valmiera\n",
      "Processing 495 of 598 : mutsu\n",
      "Processing 496 of 598 : gulbene\n",
      "Processing 497 of 598 : garowe\n",
      "Processing 498 of 598 : constitucion\n",
      "Processing 499 of 598 : kamenka\n",
      "Processing 500 of 598 : laguna\n",
      "Processing 501 of 598 : afmadu\n",
      "City not found. Continuing ...\n",
      "Processing 502 of 598 : margate\n",
      "Processing 503 of 598 : ovalle\n",
      "Processing 504 of 598 : palauig\n",
      "Processing 505 of 598 : porto murtinho\n",
      "Processing 506 of 598 : gorontalo\n",
      "Processing 507 of 598 : warqla\n",
      "City not found. Continuing ...\n",
      "Processing 508 of 598 : mahon\n",
      "Processing 509 of 598 : tapaua\n",
      "City not found. Continuing ...\n",
      "Processing 510 of 598 : yanam\n",
      "Processing 511 of 598 : ahuimanu\n",
      "Processing 512 of 598 : lo arado\n",
      "Processing 513 of 598 : bintulu\n",
      "Processing 514 of 598 : lethem\n",
      "Processing 515 of 598 : taksimo\n",
      "Processing 516 of 598 : najran\n",
      "Processing 517 of 598 : shihezi\n",
      "Processing 518 of 598 : jilove u prahy\n",
      "Processing 519 of 598 : port lincoln\n",
      "Processing 520 of 598 : fuyu\n",
      "Processing 521 of 598 : fortuna\n",
      "Processing 522 of 598 : loksa\n",
      "Processing 523 of 598 : kasongo-lunda\n",
      "Processing 524 of 598 : marcovia\n",
      "Processing 525 of 598 : denpasar\n",
      "Processing 526 of 598 : poplar bluff\n",
      "Processing 527 of 598 : penarroya-pueblonuevo\n",
      "Processing 528 of 598 : cayenne\n",
      "Processing 529 of 598 : salalah\n",
      "Processing 530 of 598 : klokkarvik\n",
      "City not found. Continuing ...\n",
      "Processing 531 of 598 : barguzin\n",
      "Processing 532 of 598 : dukhovshchina\n",
      "Processing 533 of 598 : bakel\n",
      "Processing 534 of 598 : mughal sarai\n",
      "Processing 535 of 598 : road town\n",
      "Processing 536 of 598 : kiama\n",
      "Processing 537 of 598 : guerrero negro\n",
      "Processing 538 of 598 : redondela\n",
      "Processing 539 of 598 : kemi\n",
      "Processing 540 of 598 : halalo\n",
      "City not found. Continuing ...\n",
      "Processing 541 of 598 : roma\n",
      "Processing 542 of 598 : bilibino\n",
      "Processing 543 of 598 : ramhormoz\n",
      "Processing 544 of 598 : bargal\n",
      "City not found. Continuing ...\n",
      "Processing 545 of 598 : henties bay\n",
      "Processing 546 of 598 : yueyang\n",
      "Processing 547 of 598 : ahipara\n",
      "Processing 548 of 598 : amurzet\n",
      "Processing 549 of 598 : matara\n",
      "Processing 550 of 598 : burkhala\n",
      "City not found. Continuing ...\n",
      "Processing 551 of 598 : ocean city\n",
      "Processing 552 of 598 : madimba\n",
      "Processing 553 of 598 : puerto rondon\n",
      "Processing 554 of 598 : vao\n",
      "Processing 555 of 598 : kurchum\n",
      "Processing 556 of 598 : alexandria\n",
      "Processing 557 of 598 : winthrop\n",
      "Processing 558 of 598 : marcona\n",
      "City not found. Continuing ...\n",
      "Processing 559 of 598 : tahlequah\n",
      "Processing 560 of 598 : ewa beach\n",
      "Processing 561 of 598 : tebingtinggi\n",
      "Processing 562 of 598 : nyagan\n",
      "Processing 563 of 598 : arman\n",
      "Processing 564 of 598 : kutina\n",
      "Processing 565 of 598 : genthin\n",
      "Processing 566 of 598 : cairns\n",
      "Processing 567 of 598 : talcahuano\n",
      "Processing 568 of 598 : san jose\n",
      "Processing 569 of 598 : presidente dutra\n",
      "Processing 570 of 598 : exu\n",
      "Processing 571 of 598 : obo\n",
      "Processing 572 of 598 : aswan\n",
      "Processing 573 of 598 : sioux lookout\n",
      "Processing 574 of 598 : porto novo\n",
      "Processing 575 of 598 : ayorou\n",
      "Processing 576 of 598 : umzimvubu\n",
      "City not found. Continuing ...\n",
      "Processing 577 of 598 : huangmei\n",
      "Processing 578 of 598 : majene\n",
      "Processing 579 of 598 : shingu\n",
      "Processing 580 of 598 : vaitape\n",
      "Processing 581 of 598 : flinders\n",
      "Processing 582 of 598 : marsh harbour\n",
      "Processing 583 of 598 : calama\n",
      "Processing 584 of 598 : saint-denis\n",
      "Processing 585 of 598 : caravelas\n",
      "Processing 586 of 598 : buraydah\n",
      "Processing 587 of 598 : alekseyevka\n",
      "Processing 588 of 598 : chitrakonda\n",
      "Processing 589 of 598 : the valley\n",
      "Processing 590 of 598 : volovo\n",
      "Processing 591 of 598 : stonewall\n",
      "Processing 592 of 598 : abiy adi\n",
      "City not found. Continuing ...\n",
      "Processing 593 of 598 : puerto padre\n",
      "Processing 594 of 598 : vardo\n",
      "Processing 595 of 598 : inirida\n",
      "Processing 596 of 598 : hailey\n",
      "Processing 597 of 598 : tateyama\n",
      "Processing 598 of 598 : northam\n",
      "-----------------------------------\n",
      "Data Retrieval Complete\n"
     ]
    }
   ],
   "source": [
    "#set up variables\n",
    "names = []\n",
    "lats = []\n",
    "lngs = []\n",
    "max_temps = []\n",
    "humidities = []\n",
    "cloudinesses = []\n",
    "wind_speeds = []\n",
    "countries = []\n",
    "count = 1\n",
    "\n",
    "#start for loop to iterate through selected cities\n",
    "for city in cities:\n",
    "    # print count to keep track of row\n",
    "    print(f\"Processing {count} of {len(cities)} : {city}\")\n",
    "    \n",
    "    # use try statement in case the city does not work in url\n",
    "    try:\n",
    "        #get url for each city\n",
    "        url = f\"http://api.openweathermap.org/data/2.5/weather?q={city}&appid={weather_api_key}&units=imperial\"\n",
    "        weather_response = requests.get(url)\n",
    "        weather_json = weather_response.json()\n",
    "        \n",
    "        # retrieve data\n",
    "    \n",
    "        name = country = weather_json[\"name\"]\n",
    "        lat = weather_json[\"coord\"][\"lat\"]\n",
    "        long = weather_json[\"coord\"][\"lon\"]\n",
    "        max_temp = weather_json[\"main\"][\"temp_max\"]\n",
    "        humidity = weather_json[\"main\"][\"humidity\"]\n",
    "        cloudiness = weather_json[\"clouds\"][\"all\"]\n",
    "        wind_speed = weather_json[\"wind\"][\"speed\"]\n",
    "        country = weather_json[\"sys\"][\"country\"]\n",
    "        \n",
    "        #add retrieved data to set\n",
    "        names.append(name)\n",
    "        lats.append(lat)\n",
    "        lngs.append(long)\n",
    "        max_temps.append(max_temp)\n",
    "        humidities.append(humidity)\n",
    "        cloudinesses.append(cloudiness)\n",
    "        wind_speeds.append(wind_speed)\n",
    "        countries.append(country)\n",
    "    \n",
    "    #if error occurs, skip city\n",
    "    except KeyError:\n",
    "        print(\"City not found. Continuing ...\")\n",
    "    \n",
    "    #add to count to keep track of row\n",
    "    count=count+1\n",
    "\n",
    "# final print   \n",
    "print(\"-----------------------------------\")\n",
    "print(\"Data Retrieval Complete\")"
   ]
  },
  {
   "cell_type": "markdown",
   "metadata": {},
   "source": [
    "### Convert Raw Data to DataFrame\n",
    "* Export the city data into a .csv.\n",
    "* Display the DataFrame"
   ]
  },
  {
   "cell_type": "code",
   "execution_count": 5,
   "metadata": {},
   "outputs": [
    {
     "data": {
      "text/html": [
       "<div>\n",
       "<style scoped>\n",
       "    .dataframe tbody tr th:only-of-type {\n",
       "        vertical-align: middle;\n",
       "    }\n",
       "\n",
       "    .dataframe tbody tr th {\n",
       "        vertical-align: top;\n",
       "    }\n",
       "\n",
       "    .dataframe thead th {\n",
       "        text-align: right;\n",
       "    }\n",
       "</style>\n",
       "<table border=\"1\" class=\"dataframe\">\n",
       "  <thead>\n",
       "    <tr style=\"text-align: right;\">\n",
       "      <th></th>\n",
       "      <th>name</th>\n",
       "      <th>lat</th>\n",
       "      <th>long</th>\n",
       "      <th>max_temp</th>\n",
       "      <th>humidity</th>\n",
       "      <th>cloudiness</th>\n",
       "      <th>wind_speed</th>\n",
       "      <th>country</th>\n",
       "    </tr>\n",
       "  </thead>\n",
       "  <tbody>\n",
       "    <tr>\n",
       "      <th>0</th>\n",
       "      <td>Kamina</td>\n",
       "      <td>-8.7386</td>\n",
       "      <td>24.9906</td>\n",
       "      <td>58.77</td>\n",
       "      <td>39</td>\n",
       "      <td>99</td>\n",
       "      <td>4.43</td>\n",
       "      <td>CD</td>\n",
       "    </tr>\n",
       "    <tr>\n",
       "      <th>1</th>\n",
       "      <td>Hamilton</td>\n",
       "      <td>39.1834</td>\n",
       "      <td>-84.5333</td>\n",
       "      <td>92.50</td>\n",
       "      <td>47</td>\n",
       "      <td>20</td>\n",
       "      <td>1.01</td>\n",
       "      <td>US</td>\n",
       "    </tr>\n",
       "    <tr>\n",
       "      <th>2</th>\n",
       "      <td>Punta Arenas</td>\n",
       "      <td>-53.1500</td>\n",
       "      <td>-70.9167</td>\n",
       "      <td>42.91</td>\n",
       "      <td>75</td>\n",
       "      <td>0</td>\n",
       "      <td>14.97</td>\n",
       "      <td>CL</td>\n",
       "    </tr>\n",
       "    <tr>\n",
       "      <th>3</th>\n",
       "      <td>Cape Town</td>\n",
       "      <td>-33.9258</td>\n",
       "      <td>18.4232</td>\n",
       "      <td>62.10</td>\n",
       "      <td>56</td>\n",
       "      <td>0</td>\n",
       "      <td>8.05</td>\n",
       "      <td>ZA</td>\n",
       "    </tr>\n",
       "    <tr>\n",
       "      <th>4</th>\n",
       "      <td>Ca Mau</td>\n",
       "      <td>9.1769</td>\n",
       "      <td>105.1500</td>\n",
       "      <td>77.88</td>\n",
       "      <td>87</td>\n",
       "      <td>85</td>\n",
       "      <td>6.08</td>\n",
       "      <td>VN</td>\n",
       "    </tr>\n",
       "    <tr>\n",
       "      <th>...</th>\n",
       "      <td>...</td>\n",
       "      <td>...</td>\n",
       "      <td>...</td>\n",
       "      <td>...</td>\n",
       "      <td>...</td>\n",
       "      <td>...</td>\n",
       "      <td>...</td>\n",
       "      <td>...</td>\n",
       "    </tr>\n",
       "    <tr>\n",
       "      <th>544</th>\n",
       "      <td>Vardø</td>\n",
       "      <td>70.3705</td>\n",
       "      <td>31.1107</td>\n",
       "      <td>44.58</td>\n",
       "      <td>93</td>\n",
       "      <td>75</td>\n",
       "      <td>11.50</td>\n",
       "      <td>NO</td>\n",
       "    </tr>\n",
       "    <tr>\n",
       "      <th>545</th>\n",
       "      <td>Inírida</td>\n",
       "      <td>3.8653</td>\n",
       "      <td>-67.9239</td>\n",
       "      <td>77.52</td>\n",
       "      <td>83</td>\n",
       "      <td>99</td>\n",
       "      <td>3.20</td>\n",
       "      <td>CO</td>\n",
       "    </tr>\n",
       "    <tr>\n",
       "      <th>546</th>\n",
       "      <td>Hailey</td>\n",
       "      <td>43.5196</td>\n",
       "      <td>-114.3153</td>\n",
       "      <td>91.90</td>\n",
       "      <td>22</td>\n",
       "      <td>1</td>\n",
       "      <td>10.36</td>\n",
       "      <td>US</td>\n",
       "    </tr>\n",
       "    <tr>\n",
       "      <th>547</th>\n",
       "      <td>Tateyama</td>\n",
       "      <td>34.9833</td>\n",
       "      <td>139.8667</td>\n",
       "      <td>73.42</td>\n",
       "      <td>88</td>\n",
       "      <td>75</td>\n",
       "      <td>20.71</td>\n",
       "      <td>JP</td>\n",
       "    </tr>\n",
       "    <tr>\n",
       "      <th>548</th>\n",
       "      <td>Northam</td>\n",
       "      <td>51.0333</td>\n",
       "      <td>-4.2167</td>\n",
       "      <td>66.34</td>\n",
       "      <td>93</td>\n",
       "      <td>100</td>\n",
       "      <td>4.70</td>\n",
       "      <td>GB</td>\n",
       "    </tr>\n",
       "  </tbody>\n",
       "</table>\n",
       "<p>549 rows × 8 columns</p>\n",
       "</div>"
      ],
      "text/plain": [
       "             name      lat      long  max_temp  humidity  cloudiness  \\\n",
       "0          Kamina  -8.7386   24.9906     58.77        39          99   \n",
       "1        Hamilton  39.1834  -84.5333     92.50        47          20   \n",
       "2    Punta Arenas -53.1500  -70.9167     42.91        75           0   \n",
       "3       Cape Town -33.9258   18.4232     62.10        56           0   \n",
       "4          Ca Mau   9.1769  105.1500     77.88        87          85   \n",
       "..            ...      ...       ...       ...       ...         ...   \n",
       "544         Vardø  70.3705   31.1107     44.58        93          75   \n",
       "545       Inírida   3.8653  -67.9239     77.52        83          99   \n",
       "546        Hailey  43.5196 -114.3153     91.90        22           1   \n",
       "547      Tateyama  34.9833  139.8667     73.42        88          75   \n",
       "548       Northam  51.0333   -4.2167     66.34        93         100   \n",
       "\n",
       "     wind_speed country  \n",
       "0          4.43      CD  \n",
       "1          1.01      US  \n",
       "2         14.97      CL  \n",
       "3          8.05      ZA  \n",
       "4          6.08      VN  \n",
       "..          ...     ...  \n",
       "544       11.50      NO  \n",
       "545        3.20      CO  \n",
       "546       10.36      US  \n",
       "547       20.71      JP  \n",
       "548        4.70      GB  \n",
       "\n",
       "[549 rows x 8 columns]"
      ]
     },
     "execution_count": 5,
     "metadata": {},
     "output_type": "execute_result"
    }
   ],
   "source": [
    "#set up dataframes by zipping all sets made above\n",
    "\n",
    "weather_df = pd.DataFrame(list(zip(names,lats,lngs,max_temps,humidities,cloudinesses,wind_speeds,countries)),columns=[\"name\",\"lat\",\"long\",\"max_temp\",\"humidity\",\"cloudiness\",\"wind_speed\",\"country\"])\n",
    "weather_df"
   ]
  },
  {
   "cell_type": "code",
   "execution_count": 6,
   "metadata": {},
   "outputs": [
    {
     "data": {
      "text/html": [
       "<div>\n",
       "<style scoped>\n",
       "    .dataframe tbody tr th:only-of-type {\n",
       "        vertical-align: middle;\n",
       "    }\n",
       "\n",
       "    .dataframe tbody tr th {\n",
       "        vertical-align: top;\n",
       "    }\n",
       "\n",
       "    .dataframe thead th {\n",
       "        text-align: right;\n",
       "    }\n",
       "</style>\n",
       "<table border=\"1\" class=\"dataframe\">\n",
       "  <thead>\n",
       "    <tr style=\"text-align: right;\">\n",
       "      <th></th>\n",
       "      <th>lat</th>\n",
       "      <th>long</th>\n",
       "      <th>max_temp</th>\n",
       "      <th>humidity</th>\n",
       "      <th>cloudiness</th>\n",
       "      <th>wind_speed</th>\n",
       "    </tr>\n",
       "  </thead>\n",
       "  <tbody>\n",
       "    <tr>\n",
       "      <th>count</th>\n",
       "      <td>549.000000</td>\n",
       "      <td>549.000000</td>\n",
       "      <td>549.000000</td>\n",
       "      <td>549.000000</td>\n",
       "      <td>549.000000</td>\n",
       "      <td>549.000000</td>\n",
       "    </tr>\n",
       "    <tr>\n",
       "      <th>mean</th>\n",
       "      <td>19.181173</td>\n",
       "      <td>13.515462</td>\n",
       "      <td>71.718525</td>\n",
       "      <td>68.098361</td>\n",
       "      <td>52.346084</td>\n",
       "      <td>8.110984</td>\n",
       "    </tr>\n",
       "    <tr>\n",
       "      <th>std</th>\n",
       "      <td>32.765635</td>\n",
       "      <td>89.534578</td>\n",
       "      <td>14.325504</td>\n",
       "      <td>21.427807</td>\n",
       "      <td>38.814274</td>\n",
       "      <td>5.783037</td>\n",
       "    </tr>\n",
       "    <tr>\n",
       "      <th>min</th>\n",
       "      <td>-54.800000</td>\n",
       "      <td>-175.200000</td>\n",
       "      <td>35.260000</td>\n",
       "      <td>7.000000</td>\n",
       "      <td>0.000000</td>\n",
       "      <td>0.000000</td>\n",
       "    </tr>\n",
       "    <tr>\n",
       "      <th>25%</th>\n",
       "      <td>-7.913900</td>\n",
       "      <td>-65.222600</td>\n",
       "      <td>62.960000</td>\n",
       "      <td>56.000000</td>\n",
       "      <td>12.000000</td>\n",
       "      <td>3.850000</td>\n",
       "    </tr>\n",
       "    <tr>\n",
       "      <th>50%</th>\n",
       "      <td>22.316700</td>\n",
       "      <td>16.816700</td>\n",
       "      <td>73.240000</td>\n",
       "      <td>73.000000</td>\n",
       "      <td>54.000000</td>\n",
       "      <td>6.820000</td>\n",
       "    </tr>\n",
       "    <tr>\n",
       "      <th>75%</th>\n",
       "      <td>46.433300</td>\n",
       "      <td>83.983300</td>\n",
       "      <td>81.570000</td>\n",
       "      <td>83.000000</td>\n",
       "      <td>92.000000</td>\n",
       "      <td>11.500000</td>\n",
       "    </tr>\n",
       "    <tr>\n",
       "      <th>max</th>\n",
       "      <td>78.218600</td>\n",
       "      <td>179.316700</td>\n",
       "      <td>109.580000</td>\n",
       "      <td>100.000000</td>\n",
       "      <td>100.000000</td>\n",
       "      <td>35.410000</td>\n",
       "    </tr>\n",
       "  </tbody>\n",
       "</table>\n",
       "</div>"
      ],
      "text/plain": [
       "              lat        long    max_temp    humidity  cloudiness  wind_speed\n",
       "count  549.000000  549.000000  549.000000  549.000000  549.000000  549.000000\n",
       "mean    19.181173   13.515462   71.718525   68.098361   52.346084    8.110984\n",
       "std     32.765635   89.534578   14.325504   21.427807   38.814274    5.783037\n",
       "min    -54.800000 -175.200000   35.260000    7.000000    0.000000    0.000000\n",
       "25%     -7.913900  -65.222600   62.960000   56.000000   12.000000    3.850000\n",
       "50%     22.316700   16.816700   73.240000   73.000000   54.000000    6.820000\n",
       "75%     46.433300   83.983300   81.570000   83.000000   92.000000   11.500000\n",
       "max     78.218600  179.316700  109.580000  100.000000  100.000000   35.410000"
      ]
     },
     "execution_count": 6,
     "metadata": {},
     "output_type": "execute_result"
    }
   ],
   "source": [
    "# make sure humidity max is 100\n",
    "\n",
    "weather_df.describe()"
   ]
  },
  {
   "cell_type": "markdown",
   "metadata": {},
   "source": [
    "## Inspect the data and remove the cities where the humidity > 100%.\n",
    "----\n",
    "Skip this step if there are no cities that have humidity > 100%. "
   ]
  },
  {
   "cell_type": "code",
   "execution_count": 6,
   "metadata": {},
   "outputs": [
    {
     "data": {
      "text/html": [
       "<div>\n",
       "<style scoped>\n",
       "    .dataframe tbody tr th:only-of-type {\n",
       "        vertical-align: middle;\n",
       "    }\n",
       "\n",
       "    .dataframe tbody tr th {\n",
       "        vertical-align: top;\n",
       "    }\n",
       "\n",
       "    .dataframe thead th {\n",
       "        text-align: right;\n",
       "    }\n",
       "</style>\n",
       "<table border=\"1\" class=\"dataframe\">\n",
       "  <thead>\n",
       "    <tr style=\"text-align: right;\">\n",
       "      <th></th>\n",
       "      <th>Lat</th>\n",
       "      <th>Lng</th>\n",
       "      <th>Max Temp</th>\n",
       "      <th>Humidity</th>\n",
       "      <th>Cloudiness</th>\n",
       "      <th>Wind Speed</th>\n",
       "      <th>Date</th>\n",
       "    </tr>\n",
       "  </thead>\n",
       "  <tbody>\n",
       "    <tr>\n",
       "      <th>count</th>\n",
       "      <td>550.000000</td>\n",
       "      <td>550.000000</td>\n",
       "      <td>550.000000</td>\n",
       "      <td>550.000000</td>\n",
       "      <td>550.000000</td>\n",
       "      <td>550.000000</td>\n",
       "      <td>5.500000e+02</td>\n",
       "    </tr>\n",
       "    <tr>\n",
       "      <th>mean</th>\n",
       "      <td>19.973545</td>\n",
       "      <td>17.124400</td>\n",
       "      <td>58.331400</td>\n",
       "      <td>67.890909</td>\n",
       "      <td>52.141818</td>\n",
       "      <td>8.544800</td>\n",
       "      <td>1.585764e+09</td>\n",
       "    </tr>\n",
       "    <tr>\n",
       "      <th>std</th>\n",
       "      <td>33.284840</td>\n",
       "      <td>91.595451</td>\n",
       "      <td>25.795297</td>\n",
       "      <td>20.864881</td>\n",
       "      <td>35.766469</td>\n",
       "      <td>6.078869</td>\n",
       "      <td>5.539674e+01</td>\n",
       "    </tr>\n",
       "    <tr>\n",
       "      <th>min</th>\n",
       "      <td>-54.800000</td>\n",
       "      <td>-179.170000</td>\n",
       "      <td>-11.340000</td>\n",
       "      <td>9.000000</td>\n",
       "      <td>0.000000</td>\n",
       "      <td>0.160000</td>\n",
       "      <td>1.585764e+09</td>\n",
       "    </tr>\n",
       "    <tr>\n",
       "      <th>25%</th>\n",
       "      <td>-8.077500</td>\n",
       "      <td>-64.627500</td>\n",
       "      <td>42.800000</td>\n",
       "      <td>55.000000</td>\n",
       "      <td>20.000000</td>\n",
       "      <td>4.525000</td>\n",
       "      <td>1.585764e+09</td>\n",
       "    </tr>\n",
       "    <tr>\n",
       "      <th>50%</th>\n",
       "      <td>23.630000</td>\n",
       "      <td>19.635000</td>\n",
       "      <td>64.940000</td>\n",
       "      <td>72.000000</td>\n",
       "      <td>57.000000</td>\n",
       "      <td>7.325000</td>\n",
       "      <td>1.585764e+09</td>\n",
       "    </tr>\n",
       "    <tr>\n",
       "      <th>75%</th>\n",
       "      <td>48.672500</td>\n",
       "      <td>97.350000</td>\n",
       "      <td>78.800000</td>\n",
       "      <td>83.000000</td>\n",
       "      <td>86.750000</td>\n",
       "      <td>11.410000</td>\n",
       "      <td>1.585764e+09</td>\n",
       "    </tr>\n",
       "    <tr>\n",
       "      <th>max</th>\n",
       "      <td>78.220000</td>\n",
       "      <td>179.320000</td>\n",
       "      <td>102.200000</td>\n",
       "      <td>100.000000</td>\n",
       "      <td>100.000000</td>\n",
       "      <td>46.080000</td>\n",
       "      <td>1.585764e+09</td>\n",
       "    </tr>\n",
       "  </tbody>\n",
       "</table>\n",
       "</div>"
      ],
      "text/plain": [
       "              Lat         Lng    Max Temp    Humidity  Cloudiness  Wind Speed  \\\n",
       "count  550.000000  550.000000  550.000000  550.000000  550.000000  550.000000   \n",
       "mean    19.973545   17.124400   58.331400   67.890909   52.141818    8.544800   \n",
       "std     33.284840   91.595451   25.795297   20.864881   35.766469    6.078869   \n",
       "min    -54.800000 -179.170000  -11.340000    9.000000    0.000000    0.160000   \n",
       "25%     -8.077500  -64.627500   42.800000   55.000000   20.000000    4.525000   \n",
       "50%     23.630000   19.635000   64.940000   72.000000   57.000000    7.325000   \n",
       "75%     48.672500   97.350000   78.800000   83.000000   86.750000   11.410000   \n",
       "max     78.220000  179.320000  102.200000  100.000000  100.000000   46.080000   \n",
       "\n",
       "               Date  \n",
       "count  5.500000e+02  \n",
       "mean   1.585764e+09  \n",
       "std    5.539674e+01  \n",
       "min    1.585764e+09  \n",
       "25%    1.585764e+09  \n",
       "50%    1.585764e+09  \n",
       "75%    1.585764e+09  \n",
       "max    1.585764e+09  "
      ]
     },
     "execution_count": 6,
     "metadata": {},
     "output_type": "execute_result"
    }
   ],
   "source": [
    "#NO HUMIDITY ABOVE 100"
   ]
  },
  {
   "cell_type": "code",
   "execution_count": 17,
   "metadata": {},
   "outputs": [
    {
     "data": {
      "text/plain": [
       "Int64Index([], dtype='int64')"
      ]
     },
     "execution_count": 17,
     "metadata": {},
     "output_type": "execute_result"
    }
   ],
   "source": [
    "#  Get the indices of cities that have humidity over 100%.\n"
   ]
  },
  {
   "cell_type": "code",
   "execution_count": 19,
   "metadata": {},
   "outputs": [
    {
     "data": {
      "text/html": [
       "<div>\n",
       "<style scoped>\n",
       "    .dataframe tbody tr th:only-of-type {\n",
       "        vertical-align: middle;\n",
       "    }\n",
       "\n",
       "    .dataframe tbody tr th {\n",
       "        vertical-align: top;\n",
       "    }\n",
       "\n",
       "    .dataframe thead th {\n",
       "        text-align: right;\n",
       "    }\n",
       "</style>\n",
       "<table border=\"1\" class=\"dataframe\">\n",
       "  <thead>\n",
       "    <tr style=\"text-align: right;\">\n",
       "      <th></th>\n",
       "      <th>City</th>\n",
       "      <th>Lat</th>\n",
       "      <th>Lng</th>\n",
       "      <th>Max Temp</th>\n",
       "      <th>Humidity</th>\n",
       "      <th>Cloudiness</th>\n",
       "      <th>Wind Speed</th>\n",
       "      <th>Country</th>\n",
       "      <th>Date</th>\n",
       "    </tr>\n",
       "  </thead>\n",
       "  <tbody>\n",
       "    <tr>\n",
       "      <td>0</td>\n",
       "      <td>butaritari</td>\n",
       "      <td>3.07</td>\n",
       "      <td>172.79</td>\n",
       "      <td>83.32</td>\n",
       "      <td>74</td>\n",
       "      <td>84</td>\n",
       "      <td>10.42</td>\n",
       "      <td>KI</td>\n",
       "      <td>1593605283</td>\n",
       "    </tr>\n",
       "    <tr>\n",
       "      <td>1</td>\n",
       "      <td>yerbogachen</td>\n",
       "      <td>61.28</td>\n",
       "      <td>108.01</td>\n",
       "      <td>79.52</td>\n",
       "      <td>58</td>\n",
       "      <td>20</td>\n",
       "      <td>7.70</td>\n",
       "      <td>RU</td>\n",
       "      <td>1593605121</td>\n",
       "    </tr>\n",
       "    <tr>\n",
       "      <td>2</td>\n",
       "      <td>cape town</td>\n",
       "      <td>-33.93</td>\n",
       "      <td>18.42</td>\n",
       "      <td>73.00</td>\n",
       "      <td>77</td>\n",
       "      <td>27</td>\n",
       "      <td>4.70</td>\n",
       "      <td>ZA</td>\n",
       "      <td>1593605039</td>\n",
       "    </tr>\n",
       "    <tr>\n",
       "      <td>3</td>\n",
       "      <td>touba</td>\n",
       "      <td>8.28</td>\n",
       "      <td>-7.68</td>\n",
       "      <td>79.97</td>\n",
       "      <td>75</td>\n",
       "      <td>82</td>\n",
       "      <td>3.58</td>\n",
       "      <td>CI</td>\n",
       "      <td>1593605284</td>\n",
       "    </tr>\n",
       "    <tr>\n",
       "      <td>4</td>\n",
       "      <td>jamestown</td>\n",
       "      <td>42.10</td>\n",
       "      <td>-79.24</td>\n",
       "      <td>64.00</td>\n",
       "      <td>88</td>\n",
       "      <td>1</td>\n",
       "      <td>6.93</td>\n",
       "      <td>US</td>\n",
       "      <td>1593605284</td>\n",
       "    </tr>\n",
       "  </tbody>\n",
       "</table>\n",
       "</div>"
      ],
      "text/plain": [
       "          City    Lat     Lng  Max Temp  Humidity  Cloudiness  Wind Speed  \\\n",
       "0   butaritari   3.07  172.79     83.32        74          84       10.42   \n",
       "1  yerbogachen  61.28  108.01     79.52        58          20        7.70   \n",
       "2    cape town -33.93   18.42     73.00        77          27        4.70   \n",
       "3        touba   8.28   -7.68     79.97        75          82        3.58   \n",
       "4    jamestown  42.10  -79.24     64.00        88           1        6.93   \n",
       "\n",
       "  Country        Date  \n",
       "0      KI  1593605283  \n",
       "1      RU  1593605121  \n",
       "2      ZA  1593605039  \n",
       "3      CI  1593605284  \n",
       "4      US  1593605284  "
      ]
     },
     "execution_count": 19,
     "metadata": {},
     "output_type": "execute_result"
    }
   ],
   "source": [
    "# Make a new DataFrame equal to the city data to drop all humidity outliers by index.\n",
    "# Passing \"inplace=False\" will make a copy of the city_data DataFrame, which we call \"clean_city_data\".\n"
   ]
  },
  {
   "cell_type": "code",
   "execution_count": null,
   "metadata": {},
   "outputs": [],
   "source": [
    "\n"
   ]
  },
  {
   "cell_type": "markdown",
   "metadata": {},
   "source": [
    "## Plotting the Data\n",
    "* Use proper labeling of the plots using plot titles (including date of analysis) and axes labels.\n",
    "* Save the plotted figures as .pngs."
   ]
  },
  {
   "cell_type": "markdown",
   "metadata": {},
   "source": [
    "## Latitude vs. Temperature Plot"
   ]
  },
  {
   "cell_type": "code",
   "execution_count": 22,
   "metadata": {
    "scrolled": true
   },
   "outputs": [
    {
     "data": {
      "image/png": "[encoded data removed]",
      "text/plain": [
       "<Figure size 432x288 with 1 Axes>"
      ]
     },
     "metadata": {
      "needs_background": "light"
     },
     "output_type": "display_data"
    }
   ],
   "source": [
    "plt.scatter(weather_df[\"lat\"], weather_df[\"max_temp\"], marker=\"o\", facecolors=\"red\", edgecolors=\"black\",\n",
    "            alpha=0.75)\n",
    "plt.xlabel('Lattitude')\n",
    "plt.ylabel('Max Temperature (F)')\n",
    "plt.title('City Latitude vs. Max Temperature (07/26/21)')\n",
    "plt.savefig('output/latvtemp.png')\n",
    "plt.show()\n"
   ]
  },
  {
   "cell_type": "code",
   "execution_count": null,
   "metadata": {},
   "outputs": [],
   "source": [
    "# The graph above is showing that the closer the city is to the equator (0), \n",
    "# the higher the maximum temperature will be. There are outliers that have low \n",
    "# temperatures despite its closeness to the equator Each dot represents a city, so \n",
    "# that how far left or right it is shows the latitude (relativeness to the equator), \n",
    "# and how far up or down it is, shows the maximum temperature."
   ]
  },
  {
   "cell_type": "markdown",
   "metadata": {},
   "source": [
    "## Latitude vs. Humidity Plot"
   ]
  },
  {
   "cell_type": "code",
   "execution_count": 23,
   "metadata": {},
   "outputs": [
    {
     "data": {
      "image/png": "[encoded data removed]",
      "text/plain": [
       "<Figure size 432x288 with 1 Axes>"
      ]
     },
     "metadata": {
      "needs_background": "light"
     },
     "output_type": "display_data"
    }
   ],
   "source": [
    "plt.scatter(weather_df[\"lat\"], weather_df[\"humidity\"], marker=\"o\", facecolors=\"red\", edgecolors=\"black\",\n",
    "            alpha=0.75)\n",
    "plt.xlabel('Lattitude')\n",
    "plt.ylabel('Humidity (%)')\n",
    "plt.title('City Latitude vs. Humidity (07/26/21)')\n",
    "plt.savefig('output/latvhum.png')\n",
    "plt.show()"
   ]
  },
  {
   "cell_type": "code",
   "execution_count": null,
   "metadata": {},
   "outputs": [],
   "source": [
    "# The graph above is showing that the location of a city relative to the equator has\n",
    "# little bearing on the humidity. Those cities that are closer to the equator tend to\n",
    "# high humidity. These levels of humidity, however, are just as achievable by cities \n",
    "# farther from the equator. Each dot represents a city, so \n",
    "# that how far left or right it is shows the latitude (relativeness to the equator), \n",
    "# and how far up or down it is, shows the humidity."
   ]
  },
  {
   "cell_type": "markdown",
   "metadata": {},
   "source": [
    "## Latitude vs. Cloudiness Plot"
   ]
  },
  {
   "cell_type": "code",
   "execution_count": 24,
   "metadata": {},
   "outputs": [
    {
     "data": {
      "image/png": "[encoded data removed]",
      "text/plain": [
       "<Figure size 432x288 with 1 Axes>"
      ]
     },
     "metadata": {
      "needs_background": "light"
     },
     "output_type": "display_data"
    }
   ],
   "source": [
    "plt.scatter(weather_df[\"lat\"], weather_df[\"cloudiness\"], marker=\"o\", facecolors=\"red\", edgecolors=\"black\",\n",
    "            alpha=0.75)\n",
    "plt.xlabel('Lattitude')\n",
    "plt.ylabel('Cloudiness (%)')\n",
    "plt.title('City Latitude vs. Cloudiness (07/26/21)')\n",
    "plt.savefig('output/latvcloud.png')\n",
    "plt.show()"
   ]
  },
  {
   "cell_type": "code",
   "execution_count": null,
   "metadata": {},
   "outputs": [],
   "source": [
    "# The graph above is showing that the location of a city relative to the equator has\n",
    "# little to no bearing on the cloudiness. This means cloudiness varies around the world.\n",
    "# Each dot represents a city, so that how far left or right it is shows the \n",
    "# latitude (relativeness to the equator), and how far up or down it is, shows the \n",
    "# cloudiness."
   ]
  },
  {
   "cell_type": "markdown",
   "metadata": {},
   "source": [
    "## Latitude vs. Wind Speed Plot"
   ]
  },
  {
   "cell_type": "code",
   "execution_count": 25,
   "metadata": {},
   "outputs": [
    {
     "data": {
      "image/png": "[encoded data removed]",
      "text/plain": [
       "<Figure size 432x288 with 1 Axes>"
      ]
     },
     "metadata": {
      "needs_background": "light"
     },
     "output_type": "display_data"
    }
   ],
   "source": [
    "plt.scatter(weather_df[\"lat\"], weather_df[\"wind_speed\"], marker=\"o\", facecolors=\"red\", edgecolors=\"black\",\n",
    "            alpha=0.75)\n",
    "plt.xlabel('Lattitude')\n",
    "plt.ylabel('Wind Speed (mph)')\n",
    "plt.title('City Latitude vs. Wind Speed (07/26/21)')\n",
    "plt.savefig('output/latvwind.png')\n",
    "plt.show()"
   ]
  },
  {
   "cell_type": "code",
   "execution_count": null,
   "metadata": {},
   "outputs": [],
   "source": [
    "# The graph above is showing that the location of a city relative to the equator has\n",
    "# little to no bearing on the cloudiness. There is a slight pattern, however, that\n",
    "# shows there is greater variablility in wind speed away from the equator.  \n",
    "# Each dot represents a city, so that how far left or right it is shows the \n",
    "# latitude (relativeness to the equator), and how far up or down it is, shows the \n",
    "# wind speed."
   ]
  },
  {
   "cell_type": "markdown",
   "metadata": {},
   "source": [
    "## Linear Regression"
   ]
  },
  {
   "cell_type": "code",
   "execution_count": 13,
   "metadata": {},
   "outputs": [],
   "source": [
    "# set north and south dataframes\n",
    "northern_df = weather_df[weather_df['lat']>=0]\n",
    "southern_df = weather_df[weather_df['lat']<0]"
   ]
  },
  {
   "cell_type": "markdown",
   "metadata": {},
   "source": [
    "####  Northern Hemisphere - Max Temp vs. Latitude Linear Regression"
   ]
  },
  {
   "cell_type": "code",
   "execution_count": 26,
   "metadata": {},
   "outputs": [
    {
     "name": "stdout",
     "output_type": "stream",
     "text": [
      "R-value is: -0.6257254801169746\n"
     ]
    },
    {
     "data": {
      "image/png": "[encoded data removed]",
      "text/plain": [
       "<Figure size 432x288 with 1 Axes>"
      ]
     },
     "metadata": {
      "needs_background": "light"
     },
     "output_type": "display_data"
    }
   ],
   "source": [
    "x_values = northern_df['lat']\n",
    "y_values = northern_df['max_temp']\n",
    "(slope, intercept, rvalue, pvalue, stderr) = linregress(x_values, y_values)\n",
    "regress_values = x_values * slope + intercept\n",
    "line_eq = \"y = \" + str(round(slope,2)) + \"x + \" + str(round(intercept,2))\n",
    "plt.scatter(x_values,y_values)\n",
    "plt.plot(x_values,regress_values,\"r-\")\n",
    "plt.annotate(line_eq,(6,10),fontsize=15,color=\"red\")\n",
    "plt.xlabel('Lattitude')\n",
    "plt.ylabel('Max Temperature (F)')\n",
    "print(f\"R-value is: {rvalue}\")\n",
    "plt.savefig('output/n_latvtemp.png')\n",
    "plt.show()"
   ]
  },
  {
   "cell_type": "code",
   "execution_count": null,
   "metadata": {},
   "outputs": [],
   "source": [
    "# Looking at only the nothern hemisphere, we can see the highest temperature for \n",
    "# cities gets lower, the farther north you go. With an r-value of -.63, there is\n",
    "# significant correlation between the latitude and how cold the city is."
   ]
  },
  {
   "cell_type": "markdown",
   "metadata": {},
   "source": [
    "####  Southern Hemisphere - Max Temp vs. Latitude Linear Regression"
   ]
  },
  {
   "cell_type": "code",
   "execution_count": 27,
   "metadata": {},
   "outputs": [
    {
     "name": "stdout",
     "output_type": "stream",
     "text": [
      "R-value is: 0.7360277848183138\n"
     ]
    },
    {
     "data": {
      "image/png": "[encoded data removed]",
      "text/plain": [
       "<Figure size 432x288 with 1 Axes>"
      ]
     },
     "metadata": {
      "needs_background": "light"
     },
     "output_type": "display_data"
    }
   ],
   "source": [
    "x_values = southern_df['lat']\n",
    "y_values = southern_df['max_temp']\n",
    "(slope, intercept, rvalue, pvalue, stderr) = linregress(x_values, y_values)\n",
    "regress_values = x_values * slope + intercept\n",
    "line_eq = \"y = \" + str(round(slope,2)) + \"x + \" + str(round(intercept,2))\n",
    "plt.scatter(x_values,y_values)\n",
    "plt.plot(x_values,regress_values,\"r-\")\n",
    "plt.annotate(line_eq,(6,10),fontsize=15,color=\"red\")\n",
    "plt.xlabel('Lattitude')\n",
    "plt.ylabel('Max Temperature (F)')\n",
    "print(f\"R-value is: {rvalue}\")\n",
    "plt.savefig('output/s_latvtemp.png')\n",
    "plt.show()"
   ]
  },
  {
   "cell_type": "code",
   "execution_count": null,
   "metadata": {},
   "outputs": [],
   "source": [
    "# Looking at only the southern hemisphere, we can see the highest temperature for \n",
    "# cities gets lower, the farther south you go. With an r-value of .73, there is\n",
    "# significant correlation between the latitude and how cold the city is. Looking at only\n",
    "# this graph compared to the other, they seem to contradict each other. In the other,\n",
    "# the farther north one went, the lower the temperatures. This graph, however, shows the\n",
    "# the farther north one goes, the higher the temperatures. This proves that the temperature\n",
    "# is dependent on the relativeness to the equator."
   ]
  },
  {
   "cell_type": "markdown",
   "metadata": {},
   "source": [
    "####  Northern Hemisphere - Humidity (%) vs. Latitude Linear Regression"
   ]
  },
  {
   "cell_type": "code",
   "execution_count": 28,
   "metadata": {},
   "outputs": [
    {
     "name": "stdout",
     "output_type": "stream",
     "text": [
      "R-value is: -0.005182032680977657\n"
     ]
    },
    {
     "data": {
      "image/png": "[encoded data removed]",
      "text/plain": [
       "<Figure size 432x288 with 1 Axes>"
      ]
     },
     "metadata": {
      "needs_background": "light"
     },
     "output_type": "display_data"
    }
   ],
   "source": [
    "x_values = northern_df['lat']\n",
    "y_values = northern_df['humidity']\n",
    "(slope, intercept, rvalue, pvalue, stderr) = linregress(x_values, y_values)\n",
    "regress_values = x_values * slope + intercept\n",
    "line_eq = \"y = \" + str(round(slope,2)) + \"x + \" + str(round(intercept,2))\n",
    "plt.scatter(x_values,y_values)\n",
    "plt.plot(x_values,regress_values,\"r-\")\n",
    "plt.annotate(line_eq,(6,10),fontsize=15,color=\"red\")\n",
    "plt.xlabel('Lattitude')\n",
    "plt.ylabel('Humidity (%)')\n",
    "print(f\"R-value is: {rvalue}\")\n",
    "plt.savefig('output/n_latvhum.png')\n",
    "plt.show()"
   ]
  },
  {
   "cell_type": "code",
   "execution_count": null,
   "metadata": {},
   "outputs": [],
   "source": [
    "# Looking at only the nothern hemisphere, we can see the humidity does not seem to \n",
    "# change with the location of the city. With an r-value of -.005, there is\n",
    "# insignificant/no correlation between the latitude and how humid the city is."
   ]
  },
  {
   "cell_type": "markdown",
   "metadata": {},
   "source": [
    "####  Southern Hemisphere - Humidity (%) vs. Latitude Linear Regression"
   ]
  },
  {
   "cell_type": "code",
   "execution_count": 29,
   "metadata": {},
   "outputs": [
    {
     "name": "stdout",
     "output_type": "stream",
     "text": [
      "R-value is: 0.04532487204018141\n"
     ]
    },
    {
     "data": {
      "image/png": "[encoded data removed]",
      "text/plain": [
       "<Figure size 432x288 with 1 Axes>"
      ]
     },
     "metadata": {
      "needs_background": "light"
     },
     "output_type": "display_data"
    }
   ],
   "source": [
    "x_values = southern_df['lat']\n",
    "y_values = southern_df['humidity']\n",
    "(slope, intercept, rvalue, pvalue, stderr) = linregress(x_values, y_values)\n",
    "regress_values = x_values * slope + intercept\n",
    "line_eq = \"y = \" + str(round(slope,2)) + \"x + \" + str(round(intercept,2))\n",
    "plt.scatter(x_values,y_values)\n",
    "plt.plot(x_values,regress_values,\"r-\")\n",
    "plt.annotate(line_eq,(6,10),fontsize=15,color=\"red\")\n",
    "plt.xlabel('Lattitude')\n",
    "plt.ylabel('Humidity (%)')\n",
    "print(f\"R-value is: {rvalue}\")\n",
    "plt.savefig('output/s_latvhum.png')\n",
    "plt.show()"
   ]
  },
  {
   "cell_type": "code",
   "execution_count": null,
   "metadata": {},
   "outputs": [],
   "source": [
    "# Looking at only the southern hemisphere, we can see the humidity does not seem to \n",
    "# change much with the location of the city. With an r-value of .04, there is\n",
    "# insignificant correlation between the latitude and how humid the city is. The correlation\n",
    "# does seem to be higher for the southern hemisphere than the northern. It is likely, \n",
    "# however, that this is due to the fact there are less data points so each one carries\n",
    "# more weight."
   ]
  },
  {
   "cell_type": "markdown",
   "metadata": {},
   "source": [
    "####  Northern Hemisphere - Cloudiness (%) vs. Latitude Linear Regression"
   ]
  },
  {
   "cell_type": "code",
   "execution_count": 30,
   "metadata": {},
   "outputs": [
    {
     "name": "stdout",
     "output_type": "stream",
     "text": [
      "R-value is: -0.06401893723599113\n"
     ]
    },
    {
     "data": {
      "image/png": "[encoded data removed]",
      "text/plain": [
       "<Figure size 432x288 with 1 Axes>"
      ]
     },
     "metadata": {
      "needs_background": "light"
     },
     "output_type": "display_data"
    }
   ],
   "source": [
    "x_values = northern_df['lat']\n",
    "y_values = northern_df['cloudiness']\n",
    "(slope, intercept, rvalue, pvalue, stderr) = linregress(x_values, y_values)\n",
    "regress_values = x_values * slope + intercept\n",
    "line_eq = \"y = \" + str(round(slope,2)) + \"x + \" + str(round(intercept,2))\n",
    "plt.scatter(x_values,y_values)\n",
    "plt.plot(x_values,regress_values,\"r-\")\n",
    "plt.annotate(line_eq,(6,10),fontsize=15,color=\"red\")\n",
    "plt.xlabel('Lattitude')\n",
    "plt.ylabel('Cloudiness (%)')\n",
    "print(f\"R-value is: {rvalue}\")\n",
    "plt.savefig('output/n_latvcloud.png')\n",
    "plt.show()"
   ]
  },
  {
   "cell_type": "code",
   "execution_count": null,
   "metadata": {},
   "outputs": [],
   "source": [
    "# Looking at only the nothern hemisphere, we can see the cloudiness does not seem to \n",
    "# change much with the location of the city. With an r-value of -.06, there is\n",
    "# little correlation between the latitude and how cloudy the city is."
   ]
  },
  {
   "cell_type": "markdown",
   "metadata": {},
   "source": [
    "####  Southern Hemisphere - Cloudiness (%) vs. Latitude Linear Regression"
   ]
  },
  {
   "cell_type": "code",
   "execution_count": 31,
   "metadata": {},
   "outputs": [
    {
     "name": "stdout",
     "output_type": "stream",
     "text": [
      "R-value is: 0.05593677690416304\n"
     ]
    },
    {
     "data": {
      "image/png": "[encoded data removed]",
      "text/plain": [
       "<Figure size 432x288 with 1 Axes>"
      ]
     },
     "metadata": {
      "needs_background": "light"
     },
     "output_type": "display_data"
    }
   ],
   "source": [
    "x_values = southern_df['lat']\n",
    "y_values = southern_df['cloudiness']\n",
    "(slope, intercept, rvalue, pvalue, stderr) = linregress(x_values, y_values)\n",
    "regress_values = x_values * slope + intercept\n",
    "line_eq = \"y = \" + str(round(slope,2)) + \"x + \" + str(round(intercept,2))\n",
    "plt.scatter(x_values,y_values)\n",
    "plt.plot(x_values,regress_values,\"r-\")\n",
    "plt.annotate(line_eq,(6,10),fontsize=15,color=\"red\")\n",
    "plt.xlabel('Lattitude')\n",
    "plt.ylabel('Cloudiness (%)')\n",
    "print(f\"R-value is: {rvalue}\")\n",
    "plt.savefig('output/s_latvcloud.png')\n",
    "plt.show()"
   ]
  },
  {
   "cell_type": "code",
   "execution_count": null,
   "metadata": {},
   "outputs": [],
   "source": [
    "# Looking at only the southern hemisphere, we can see the cloudiness does not seem to \n",
    "# change much with the location of the city. With an r-value of .06, there is\n",
    "# little correlation between the latitude and how cloudy the city is. "
   ]
  },
  {
   "cell_type": "markdown",
   "metadata": {},
   "source": [
    "####  Northern Hemisphere - Wind Speed (mph) vs. Latitude Linear Regression"
   ]
  },
  {
   "cell_type": "code",
   "execution_count": 32,
   "metadata": {},
   "outputs": [
    {
     "name": "stdout",
     "output_type": "stream",
     "text": [
      "R-value is: -0.13170213511680148\n"
     ]
    },
    {
     "data": {
      "image/png": "[encoded data removed]",
      "text/plain": [
       "<Figure size 432x288 with 1 Axes>"
      ]
     },
     "metadata": {
      "needs_background": "light"
     },
     "output_type": "display_data"
    }
   ],
   "source": [
    "x_values = northern_df['lat']\n",
    "y_values = northern_df['wind_speed']\n",
    "(slope, intercept, rvalue, pvalue, stderr) = linregress(x_values, y_values)\n",
    "regress_values = x_values * slope + intercept\n",
    "line_eq = \"y = \" + str(round(slope,2)) + \"x + \" + str(round(intercept,2))\n",
    "plt.scatter(x_values,y_values)\n",
    "plt.plot(x_values,regress_values,\"r-\")\n",
    "plt.annotate(line_eq,(6,10),fontsize=15,color=\"red\")\n",
    "plt.xlabel('Lattitude')\n",
    "plt.ylabel('Wind Speed (mph)')\n",
    "print(f\"R-value is: {rvalue}\")\n",
    "plt.savefig('output/n_latvwind.png')\n",
    "plt.show()"
   ]
  },
  {
   "cell_type": "code",
   "execution_count": null,
   "metadata": {},
   "outputs": [],
   "source": [
    "# Looking at only the northern hemisphere, we can see the wind speed does not seem to \n",
    "# change much with the location of the city. With an r-value of .13, there is\n",
    "# insignificant correlation between the latitude and how windy the city is. The correlation\n",
    "# does seem to be higher for the wind speed than humidity and cloudiness, but is still\n",
    "# insigficant. The little correlation there is shows that wind speeds decrease farther \n",
    "# away from the equator."
   ]
  },
  {
   "cell_type": "markdown",
   "metadata": {},
   "source": [
    "####  Southern Hemisphere - Wind Speed (mph) vs. Latitude Linear Regression"
   ]
  },
  {
   "cell_type": "code",
   "execution_count": 33,
   "metadata": {},
   "outputs": [
    {
     "name": "stdout",
     "output_type": "stream",
     "text": [
      "R-value is: -0.18604881358135897\n"
     ]
    },
    {
     "data": {
      "image/png": "[encoded data removed]",
      "text/plain": [
       "<Figure size 432x288 with 1 Axes>"
      ]
     },
     "metadata": {
      "needs_background": "light"
     },
     "output_type": "display_data"
    }
   ],
   "source": [
    "x_values = southern_df['lat']\n",
    "y_values = southern_df['wind_speed']\n",
    "(slope, intercept, rvalue, pvalue, stderr) = linregress(x_values, y_values)\n",
    "regress_values = x_values * slope + intercept\n",
    "line_eq = \"y = \" + str(round(slope,2)) + \"x + \" + str(round(intercept,2))\n",
    "plt.scatter(x_values,y_values)\n",
    "plt.plot(x_values,regress_values,\"r-\")\n",
    "plt.annotate(line_eq,(6,10),fontsize=15,color=\"red\")\n",
    "plt.xlabel('Lattitude')\n",
    "plt.ylabel('Wind Speed (mph)')\n",
    "print(f\"R-value is: {rvalue}\")\n",
    "plt.savefig('output/s_latvwind.png')\n",
    "plt.show()"
   ]
  },
  {
   "cell_type": "code",
   "execution_count": null,
   "metadata": {},
   "outputs": [],
   "source": [
    "# Looking at only the southern hemisphere, we can see the wind speed does not seem to \n",
    "# change much with the location of the city. With an r-value of -.19, there is\n",
    "# insignificant correlation between the latitude and how windy the city is. The correlation\n",
    "# does seem to be higher for the wind speed than humidity and cloudiness, but is still\n",
    "# insigficant. The little correlation there is shows that wind speeds decrease closer \n",
    "# to the equator."
   ]
  }
 ],
 "metadata": {
  "anaconda-cloud": {},
  "kernel_info": {
   "name": "python3"
  },
  "kernelspec": {
   "display_name": "Python 3",
   "language": "python",
   "name": "python3"
  },
  "language_info": {
   "codemirror_mode": {
    "name": "ipython",
    "version": 3
   },
   "file_extension": ".py",
   "mimetype": "text/x-python",
   "name": "python",
   "nbconvert_exporter": "python",
   "pygments_lexer": "ipython3",
   "version": "3.6.13"
  },
  "latex_envs": {
   "LaTeX_envs_menu_present": true,
   "autoclose": false,
   "autocomplete": true,
   "bibliofile": "biblio.bib",
   "cite_by": "apalike",
   "current_citInitial": 1,
   "eqLabelWithNumbers": true,
   "eqNumInitial": 1,
   "hotkeys": {
    "equation": "Ctrl-E",
    "itemize": "Ctrl-I"
   },
   "labels_anchors": false,
   "latex_user_defs": false,
   "report_style_numbering": false,
   "user_envs_cfg": false
  },
  "nteract": {
   "version": "0.12.3"
  }
 },
 "nbformat": 4,
 "nbformat_minor": 2
}
